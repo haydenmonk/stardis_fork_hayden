{
 "cells": [
  {
   "cell_type": "markdown",
   "metadata": {},
   "source": [
    "# Using a MESA model"
   ]
  },
  {
   "cell_type": "markdown",
   "metadata": {},
   "source": [
    "Using a MESA model entails a few changes in the utilization of STARDIS. Firstly, you must change the model type to 'mesa' under the 'model' section, like this:  \n",
    "\n",
    "```\n",
    "model:\n",
    "    type: mesa\n",
    "    fname: end_core_h_burn.mod\n",
    "```\n"
   ]
  },
  {
   "cell_type": "markdown",
   "metadata": {},
   "source": [
    "Next, you can now specify the outmost depth point for the simulation using the 'truncate_to_shell' parameter. It defaults to -99, which tells the model to use all shells. Place the parameter in the 'model' section, like this: \n",
    "```\n",
    "model:\n",
    "    type: mesa\n",
    "    fname: end_core_h_burn.mod\n",
    "    truncate_to_shell: 40\n",
    "```"
   ]
  },
  {
   "cell_type": "markdown",
   "metadata": {},
   "source": []
  }
 ],
 "metadata": {
  "language_info": {
   "name": "python"
  },
  "orig_nbformat": 4
 },
 "nbformat": 4,
 "nbformat_minor": 2
}
